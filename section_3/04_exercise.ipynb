{
  "nbformat": 4,
  "nbformat_minor": 0,
  "metadata": {
    "colab": {
      "name": "04_exercise.ipynb",
      "provenance": [],
      "collapsed_sections": [],
      "include_colab_link": true
    },
    "kernelspec": {
      "name": "python3",
      "display_name": "Python 3"
    },
    "language_info": {
      "name": "python"
    }
  },
  "cells": [
    {
      "cell_type": "markdown",
      "metadata": {
        "id": "view-in-github",
        "colab_type": "text"
      },
      "source": [
        "<a href=\"https://colab.research.google.com/github/alicelindel3/kaggle/blob/main/section_3/04_exercise.ipynb\" target=\"_parent\"><img src=\"https://colab.research.google.com/assets/colab-badge.svg\" alt=\"Open In Colab\"/></a>"
      ]
    },
    {
      "cell_type": "markdown",
      "source": [
        "# アンサンブル学習\n",
        "複数の機械学習モデルを組み合わせる、「アンサンブル学習」にトライしましょう。  \n",
        "予測結果で多数決を行い、Kaggleに提出して結果を確認しましょう。"
      ],
      "metadata": {
        "id": "E-QmT8-Qhgt9"
      }
    },
    {
      "cell_type": "markdown",
      "source": [
        "## データの準備\n",
        "異なる機械学習モデルによる予測結果を読み込みます。  \n",
        "これらを1つのデータフレームにまとめ、予測結果の相関関係を計算します。  \n",
        "一部、CSVファイル名の変更が必要です。\n"
      ],
      "metadata": {
        "id": "sW2dwjT2kYqQ"
      }
    },
    {
      "cell_type": "code",
      "source": [
        "import pandas as pd\n",
        "\n",
        "subm_rf = pd.read_csv(\"submission_titanic_rf.csv\")  #  section_2/02_titanic_random_forest.ipynb\n",
        "subm_svc = pd.read_csv(\"submission_titanic_svc.csv\")  #  section_2/03_exercise.ipynb\n",
        "subm_lgbm = pd.read_csv(\"submission_titanic_cv.csv\")  # section_3/03_cross_validation.ipynb\n",
        "\n",
        "ensemble_df = pd.DataFrame({\"subm_rf\": subm_rf[\"Survived\"].values,\n",
        "                            \"subm_svc\": subm_svc[\"Survived\"].values,\n",
        "                            \"subm_lgbm\": subm_lgbm[\"Survived\"].values})\n",
        "ensemble_df.head()"
      ],
      "metadata": {
        "id": "JCyFTsghF5xm"
      },
      "execution_count": null,
      "outputs": []
    },
    {
      "cell_type": "code",
      "source": [
        "ensemble_df.corr()  # 各列の相関関係"
      ],
      "metadata": {
        "id": "A7myf3WIQz27"
      },
      "execution_count": null,
      "outputs": []
    },
    {
      "cell_type": "markdown",
      "source": [
        "## 多数決による生存/死亡の決定\n",
        "複数の機械学習モデルによる予測結果で、多数決を行います。  \n",
        "結果をCSVファイルに保存し、Kaggleに提出して結果を確認しましょう。"
      ],
      "metadata": {
        "id": "2LRm7sRYPpOV"
      }
    },
    {
      "cell_type": "code",
      "source": [
        "subm_data = subm_rf.copy()  # PassengerIdを転用\n",
        "\n",
        "# 多数決で生存/死亡を決定\n",
        "subm_data[\"Survived\"] = subm_rf[\"Survived\"] + subm_svc[\"Survived\"] + subm_lgbm[\"Survived\"]\n",
        "subm_data[\"Survived\"] = (subm_data[\"Survived\"]>=2).astype(int)\n",
        "\n",
        "subm_data.to_csv(\"submission_titanic_ensemble.csv\", index=False)\n",
        "subm_data.head()"
      ],
      "metadata": {
        "id": "VBVvjGuWIo6B"
      },
      "execution_count": null,
      "outputs": []
    }
  ]
}